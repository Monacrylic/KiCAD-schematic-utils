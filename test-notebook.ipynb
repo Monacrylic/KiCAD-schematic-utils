{
 "cells": [
  {
   "cell_type": "code",
   "execution_count": 1,
   "metadata": {},
   "outputs": [
    {
     "name": "stdout",
     "output_type": "stream",
     "text": [
      "Created file test_generated.kicad_sch\n",
      "Modified file test_generated.kicad_sch\n"
     ]
    },
    {
     "data": {
      "text/plain": [
       "'(kicad_sch\\n    (version 20231120)\\n    (generator \"SidYifanOmarNeel\")\\n    (generator_version \"8.0\")\\n    (uuid \"cc0b0b4a-7252-4a21-a5ec-b601d08cf77d\")\\n    (paper \"A4\")\\n    (lib_symbols\\n (symbol \"Device:R\"\\n\\t\\t(pin_numbers hide)\\n\\t\\t(pin_names\\n\\t\\t\\t(offset 0)\\n\\t\\t)\\n\\t\\t(exclude_from_sim no)\\n\\t\\t(in_bom yes)\\n\\t\\t(on_board yes)\\n\\t\\t(property \"Reference\" \"R\"\\n\\t\\t\\t(at 2.032 0 90)\\n\\t\\t\\t(effects\\n\\t\\t\\t\\t(font\\n\\t\\t\\t\\t\\t(size 1.27 1.27)\\n\\t\\t\\t\\t)\\n\\t\\t\\t)\\n\\t\\t)\\n\\t\\t(property \"Value\" \"R\"\\n\\t\\t\\t(at 0 0 90)\\n\\t\\t\\t(effects\\n\\t\\t\\t\\t(font\\n\\t\\t\\t\\t\\t(size 1.27 1.27)\\n\\t\\t\\t\\t)\\n\\t\\t\\t)\\n\\t\\t)\\n\\t\\t(property \"Footprint\" \"\"\\n\\t\\t\\t(at -1.778 0 90)\\n\\t\\t\\t(effects\\n\\t\\t\\t\\t(font\\n\\t\\t\\t\\t\\t(size 1.27 1.27)\\n\\t\\t\\t\\t)\\n\\t\\t\\t\\t(hide yes)\\n\\t\\t\\t)\\n\\t\\t)\\n\\t\\t(property \"Datasheet\" \"~\"\\n\\t\\t\\t(at 0 0 0)\\n\\t\\t\\t(effects\\n\\t\\t\\t\\t(font\\n\\t\\t\\t\\t\\t(size 1.27 1.27)\\n\\t\\t\\t\\t)\\n\\t\\t\\t\\t(hide yes)\\n\\t\\t\\t)\\n\\t\\t)\\n\\t\\t(property \"Description\" \"Resistor\"\\n\\t\\t\\t(at 0 0 0)\\n\\t\\t\\t(effects\\n\\t\\t\\t\\t(font\\n\\t\\t\\t\\t\\t(size 1.27 1.27)\\n\\t\\t\\t\\t)\\n\\t\\t\\t\\t(hide yes)\\n\\t\\t\\t)\\n\\t\\t)\\n\\t\\t(property \"ki_keywords\" \"R res resistor\"\\n\\t\\t\\t(at 0 0 0)\\n\\t\\t\\t(effects\\n\\t\\t\\t\\t(font\\n\\t\\t\\t\\t\\t(size 1.27 1.27)\\n\\t\\t\\t\\t)\\n\\t\\t\\t\\t(hide yes)\\n\\t\\t\\t)\\n\\t\\t)\\n\\t\\t(property \"ki_fp_filters\" \"R_*\"\\n\\t\\t\\t(at 0 0 0)\\n\\t\\t\\t(effects\\n\\t\\t\\t\\t(font\\n\\t\\t\\t\\t\\t(size 1.27 1.27)\\n\\t\\t\\t\\t)\\n\\t\\t\\t\\t(hide yes)\\n\\t\\t\\t)\\n\\t\\t)\\n\\t\\t(symbol \"R_0_1\"\\n\\t\\t\\t(rectangle\\n\\t\\t\\t\\t(start -1.016 -2.54)\\n\\t\\t\\t\\t(end 1.016 2.54)\\n\\t\\t\\t\\t(stroke\\n\\t\\t\\t\\t\\t(width 0.254)\\n\\t\\t\\t\\t\\t(type default)\\n\\t\\t\\t\\t)\\n\\t\\t\\t\\t(fill\\n\\t\\t\\t\\t\\t(type none)\\n\\t\\t\\t\\t)\\n\\t\\t\\t)\\n\\t\\t)\\n\\t\\t(symbol \"R_1_1\"\\n\\t\\t\\t(pin passive line\\n\\t\\t\\t\\t(at 0 3.81 270)\\n\\t\\t\\t\\t(length 1.27)\\n\\t\\t\\t\\t(name \"~\"\\n\\t\\t\\t\\t\\t(effects\\n\\t\\t\\t\\t\\t\\t(font\\n\\t\\t\\t\\t\\t\\t\\t(size 1.27 1.27)\\n\\t\\t\\t\\t\\t\\t)\\n\\t\\t\\t\\t\\t)\\n\\t\\t\\t\\t)\\n\\t\\t\\t\\t(number \"1\"\\n\\t\\t\\t\\t\\t(effects\\n\\t\\t\\t\\t\\t\\t(font\\n\\t\\t\\t\\t\\t\\t\\t(size 1.27 1.27)\\n\\t\\t\\t\\t\\t\\t)\\n\\t\\t\\t\\t\\t)\\n\\t\\t\\t\\t)\\n\\t\\t\\t)\\n\\t\\t\\t(pin passive line\\n\\t\\t\\t\\t(at 0 -3.81 90)\\n\\t\\t\\t\\t(length 1.27)\\n\\t\\t\\t\\t(name \"~\"\\n\\t\\t\\t\\t\\t(effects\\n\\t\\t\\t\\t\\t\\t(font\\n\\t\\t\\t\\t\\t\\t\\t(size 1.27 1.27)\\n\\t\\t\\t\\t\\t\\t)\\n\\t\\t\\t\\t\\t)\\n\\t\\t\\t\\t)\\n\\t\\t\\t\\t(number \"2\"\\n\\t\\t\\t\\t\\t(effects\\n\\t\\t\\t\\t\\t\\t(font\\n\\t\\t\\t\\t\\t\\t\\t(size 1.27 1.27)\\n\\t\\t\\t\\t\\t\\t)\\n\\t\\t\\t\\t\\t)\\n\\t\\t\\t\\t)\\n\\t\\t\\t)\\n\\t\\t)\\n\\t) \\n )\\n\\n \\n(symbol\\n        (lib_id \"Device:R\")\\n        (at 133.35 64.77 0)\\n        (unit 1)\\n        (exclude_from_sim no)\\n        (in_bom yes)\\n        (on_board yes)\\n        (dnp no)\\n        (fields_autoplaced yes)\\n        (uuid \"40c86e76-7063-409f-a61a-f906c8a353f6\")\\n        (property \"Reference\" \"R1\"\\n            (at 133.35 64.77 0)\\n            (effects\\n                (font\\n                    (size 1.27 1.27)\\n                )\\n            )\\n        )\\n        (property \"Value\" \"R\"\\n            (at 133.35 64.77 0)\\n            (effects\\n                (font\\n                    (size 1.27 1.27)\\n                )\\n            )\\n        )\\n        (property \"Footprint\" \"\"\\n            (at 133.35 64.77 0)\\n            (effects\\n                (font\\n                    (size 1.27 1.27)\\n                )\\n                (hide yes)\\n            )\\n        )\\n        (property \"Datasheet\" \"~\"\\n            (at 0 0 0)\\n            (effects\\n                (font\\n                    (size 1.27 1.27)\\n                )\\n                (hide yes)\\n            )\\n        )\\n        (property \"Description\" \"Resistor\"\\n            (at 0 0 0)\\n            (effects\\n                (font\\n                    (size 1.27 1.27)\\n                )\\n                (hide yes)\\n            )\\n        )\\n        (pin \"1\"  (uuid 851eb412-d2fa-447c-b8f3-005ba460c87c))\\n        (pin \"2\"  (uuid 36b95f67-c078-4be2-9212-9632b98e310d))\\n        (instances\\n            (project \"temp_cc0b0b4a-7252-4a21-a5ec-b601d08cf77d\"\\n                (path \"/cc0b0b4a-7252-4a21-a5ec-b601d08cf77d\"\\n                    (reference \"R1\")\\n                    (unit 1)\\n                )\\n            )\\n        )\\n    )    \\n \\n     (sheet_instances\\n        (path \"/\"\\n            (page \"1\")\\n        )\\n    )\\n)'"
      ]
     },
     "execution_count": 1,
     "metadata": {},
     "output_type": "execute_result"
    }
   ],
   "source": [
    "import kicad_utils\n",
    "\n",
    "kicad_utils.create_kicad_sch_file(new_file_name=\"test_generated\")\n",
    "\n",
    "symbols_to_be_added = [\n",
    "    {\"lib_id\": \"Device:R\", \"x\": 133.35, \"y\": 64.77, \"angle\": 0, \"reference_name\": \"R1\"}\n",
    "]\n",
    "kicad_utils.modify_kicad_sch_file(components=symbols_to_be_added, file_path=\"test_generated.kicad_sch\")\n"
   ]
  },
  {
   "cell_type": "code",
   "execution_count": 7,
   "metadata": {},
   "outputs": [
    {
     "name": "stdout",
     "output_type": "stream",
     "text": [
      "(symbol \"Device:Ammeter_AC\" \t\t(pin_numbers hide) \t\t(pin_names \t\t\t(offset 0.0254) hide) \t\t(exclude_from_sim no) \t\t(in_bom yes) \t\t(on_board yes) \t\t(property \"Reference\" \"MES\" \t\t\t(at -3.302 1.016 0) \t\t\t(effects \t\t\t\t(font \t\t\t\t\t(size 1.27 1.27) \t\t\t\t) \t\t\t\t(justify right) \t\t\t) \t\t) \t\t(property \"Value\" \"Ammeter_AC\" \t\t\t(at -3.302 -0.762 0) \t\t\t(effects \t\t\t\t(font \t\t\t\t\t(size 1.27 1.27) \t\t\t\t) \t\t\t\t(justify right) \t\t\t) \t\t) \t\t(property \"Footprint\" \"\" \t\t\t(at 0 2.54 90) \t\t\t(effects \t\t\t\t(font \t\t\t\t\t(size 1.27 1.27) \t\t\t\t) \t\t\t\t(hide yes) \t\t\t) \t\t) \t\t(property \"Datasheet\" \"~\" \t\t\t(at 0 2.54 90) \t\t\t(effects \t\t\t\t(font \t\t\t\t\t(size 1.27 1.27) \t\t\t\t) \t\t\t\t(hide yes) \t\t\t) \t\t) \t\t(property \"Description\" \"AC ammeter\" \t\t\t(at 0 0 0) \t\t\t(effects \t\t\t\t(font \t\t\t\t\t(size 1.27 1.27) \t\t\t\t) \t\t\t\t(hide yes) \t\t\t) \t\t) \t\t(property \"ki_keywords\" \"ammeter AC ampere meter\" \t\t\t(at 0 0 0) \t\t\t(effects \t\t\t\t(font \t\t\t\t\t(size 1.27 1.27) \t\t\t\t) \t\t\t\t(hide yes) \t\t\t) \t\t) \t\t(symbol \"Ammeter_AC_0_0\" \t\t\t(polyline \t\t\t\t(pts \t\t\t\t\t(xy -3.175 -3.175) (xy -1.905 -1.905) \t\t\t\t) \t\t\t\t(stroke \t\t\t\t\t(width 0) \t\t\t\t\t(type default) \t\t\t\t) \t\t\t\t(fill \t\t\t\t\t(type none) \t\t\t\t) \t\t\t) \t\t\t(polyline \t\t\t\t(pts \t\t\t\t\t(xy 1.905 1.905) (xy 3.175 3.175) \t\t\t\t) \t\t\t\t(stroke \t\t\t\t\t(width 0) \t\t\t\t\t(type default) \t\t\t\t) \t\t\t\t(fill \t\t\t\t\t(type none) \t\t\t\t) \t\t\t) \t\t\t(polyline \t\t\t\t(pts \t\t\t\t\t(xy 1.905 3.175) (xy 3.175 3.175) (xy 3.175 1.905) \t\t\t\t) \t\t\t\t(stroke \t\t\t\t\t(width 0) \t\t\t\t\t(type default) \t\t\t\t) \t\t\t\t(fill \t\t\t\t\t(type none) \t\t\t\t) \t\t\t) \t\t\t(text \"A\" \t\t\t\t(at 0 0.635 0) \t\t\t\t(effects \t\t\t\t\t(font \t\t\t\t\t\t(size 2.54 2.54) \t\t\t\t\t) \t\t\t\t) \t\t\t) \t\t) \t\t(symbol \"Ammeter_AC_0_1\" \t\t\t(arc \t\t\t\t(start -1.016 -1.524) \t\t\t\t(mid -0.508 -1.902) \t\t\t\t(end 0 -1.524) \t\t\t\t(stroke \t\t\t\t\t(width 0) \t\t\t\t\t(type default) \t\t\t\t) \t\t\t\t(fill \t\t\t\t\t(type none) \t\t\t\t) \t\t\t) \t\t\t(circle \t\t\t\t(center 0 0) \t\t\t\t(radius 2.54) \t\t\t\t(stroke \t\t\t\t\t(width 0.254) \t\t\t\t\t(type default) \t\t\t\t) \t\t\t\t(fill \t\t\t\t\t(type none) \t\t\t\t) \t\t\t) \t\t\t(arc \t\t\t\t(start 1.016 -1.524) \t\t\t\t(mid 0.508 -1.1274) \t\t\t\t(end 0 -1.524) \t\t\t\t(stroke \t\t\t\t\t(width 0) \t\t\t\t\t(type default) \t\t\t\t) \t\t\t\t(fill \t\t\t\t\t(type none) \t\t\t\t) \t\t\t) \t\t) \t\t(symbol \"Ammeter_AC_1_1\" \t\t\t(pin passive line \t\t\t\t(at 0 -5.08 90) \t\t\t\t(length 2.54) \t\t\t\t(name \"~\" \t\t\t\t\t(effects \t\t\t\t\t\t(font \t\t\t\t\t\t\t(size 1.27 1.27) \t\t\t\t\t\t) \t\t\t\t\t) \t\t\t\t) \t\t\t\t(number \"1\" \t\t\t\t\t(effects \t\t\t\t\t\t(font \t\t\t\t\t\t\t(size 1.27 1.27) \t\t\t\t\t\t) \t\t\t\t\t) \t\t\t\t) \t\t\t) \t\t\t(pin passive line \t\t\t\t(at 0 5.08 270) \t\t\t\t(length 2.54) \t\t\t\t(name \"~\" \t\t\t\t\t(effects \t\t\t\t\t\t(font \t\t\t\t\t\t\t(size 1.27 1.27) \t\t\t\t\t\t) \t\t\t\t\t) \t\t\t\t) \t\t\t\t(number \"2\" \t\t\t\t\t(effects \t\t\t\t\t\t(font \t\t\t\t\t\t\t(size 1.27 1.27) \t\t\t\t\t\t) \t\t\t\t\t) \t\t\t\t) \t\t\t) \t\t) \t)\n"
     ]
    }
   ],
   "source": [
    "symbol_def = kicad_utils.extract_symbol_definition(\"Device:Ammeter_AC\")\n",
    "print(symbol_def.replace(\"\\n\", \" \"))"
   ]
  },
  {
   "cell_type": "code",
   "execution_count": null,
   "metadata": {},
   "outputs": [],
   "source": []
  }
 ],
 "metadata": {
  "kernelspec": {
   "display_name": "Python 3",
   "language": "python",
   "name": "python3"
  },
  "language_info": {
   "codemirror_mode": {
    "name": "ipython",
    "version": 3
   },
   "file_extension": ".py",
   "mimetype": "text/x-python",
   "name": "python",
   "nbconvert_exporter": "python",
   "pygments_lexer": "ipython3",
   "version": "3.11.8"
  }
 },
 "nbformat": 4,
 "nbformat_minor": 2
}
